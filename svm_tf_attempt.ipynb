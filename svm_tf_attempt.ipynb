{
 "cells": [
  {
   "cell_type": "code",
   "execution_count": 189,
   "metadata": {},
   "outputs": [],
   "source": [
    "import numpy as np\n",
    "import matplotlib.pyplot as plt\n",
    "from random import shuffle\n",
    "from turtle import color\n",
    "from sklearn import datasets\n",
    "import tensorflow as tf\n",
    "from tensorflow import Variable\n",
    "from sklearn.metrics import hinge_loss as sk_hinge_loss"
   ]
  },
  {
   "cell_type": "code",
   "execution_count": 27,
   "metadata": {},
   "outputs": [
    {
     "name": "stdout",
     "output_type": "stream",
     "text": [
      "[[ 5  3 -5]\n",
      " [ 3  5 -3]\n",
      " [-5 -3  5]]\n",
      "[[5. 3. 5.]\n",
      " [3. 5. 3.]\n",
      " [5. 3. 5.]]\n"
     ]
    }
   ],
   "source": [
    "# Example 7.5\n",
    "\n",
    "X = np.array([[1, 2], \n",
    "            [-1, 2],\n",
    "            [-1, -2]])\n",
    "\n",
    "y = np.array([-1, -1, 1])\n",
    "\n",
    "XP = np.zeros(X.shape)\n",
    "\n",
    "\n",
    "for i in range(X.shape[1]):\n",
    "    for j in range(X.shape[0]):\n",
    "        XP[j][i] = X[j][i] * y[j]\n",
    "\n",
    "X_XT = np.dot(X, np.transpose(X))\n",
    "print(X_XT)\n",
    "XP_XPT = np.dot(XP, np.transpose(XP))\n",
    "print(XP_XPT)"
   ]
  },
  {
   "cell_type": "code",
   "execution_count": 28,
   "metadata": {},
   "outputs": [],
   "source": [
    "def dual_optimization(X, y, alpha):\n",
    "    sum = 0\n",
    "    n = X.shape[0]\n",
    "    for i in range(n):\n",
    "        for j in range(n):\n",
    "            sum += np.dot(alpha[i] * alpha[j] * y[i] * y[j] * X[i], X[j])\n",
    "    for i in range(n):\n",
    "        sum += alpha[i]\n",
    "    sum *= -0.5\n",
    "    return sum"
   ]
  },
  {
   "cell_type": "code",
   "execution_count": 62,
   "metadata": {},
   "outputs": [
    {
     "name": "stdout",
     "output_type": "stream",
     "text": [
      "(25, 3)\n",
      "[[6.07223714 8.23355007 1.        ]\n",
      " [7.49800981 7.72171354 1.        ]\n",
      " [6.65405399 7.79919258 1.        ]\n",
      " [5.43078084 8.09886609 1.        ]\n",
      " [6.88696748 7.38302917 1.        ]\n",
      " [1.80919382 3.83336419 1.        ]\n",
      " [1.31385667 3.87578751 1.        ]\n",
      " [0.88371902 4.95540885 1.        ]\n",
      " [1.25387108 6.41344775 1.        ]\n",
      " [5.79541179 9.06573565 1.        ]]\n",
      "(25,)\n",
      "[ 1  1  1  1  1 -1 -1 -1 -1  1]\n"
     ]
    },
    {
     "data": {
      "image/png": "[encoded data removed]",
      "text/plain": [
       "<Figure size 640x480 with 1 Axes>"
      ]
     },
     "metadata": {},
     "output_type": "display_data"
    }
   ],
   "source": [
    "# Generate Dataset\n",
    "X, y_tmp = datasets.make_blobs(n_samples=25, centers=2, cluster_std=1, n_features=2, center_box=(2, 11), random_state=1)\n",
    "\n",
    "# Add the 1s to replace the bias term\n",
    "X = np.hstack((X,np.ones([X.shape[0],1], X.dtype)))\n",
    "\n",
    "# Swap 0 and 1 values so graph makes sense\n",
    "y_tmp2 = np.where(y_tmp == 1, -1, y_tmp)\n",
    "y = np.where(y_tmp2 == 0, 1, y_tmp2)\n",
    "\n",
    "# Look at data\n",
    "print(X.shape)\n",
    "print(X[:10])\n",
    "print(y.shape)\n",
    "print(y[:10])\n",
    "\n",
    "plt.plot(X[:, 0][y == 1], X[:, 1][y == 1], '+', color='green', label='yi = +1')\n",
    "plt.plot(X[:, 0][y == -1], X[:, 1][y == -1], '_', color='red', label='yi = 0')\n",
    "plt.legend()\n",
    "plt.xlim(np.array([0,10]))\n",
    "plt.ylim(np.array([0,10]))\n",
    "plt.xlabel('Free time (Hours)')\n",
    "plt.ylabel('Food in Svens fridge (100 Calories)')\n",
    "plt.title(\"Do I look after Sven's cat?\")\n",
    "plt.show()"
   ]
  },
  {
   "cell_type": "code",
   "execution_count": 219,
   "metadata": {},
   "outputs": [],
   "source": [
    "def hinge_loss(yhat, y, w, lam):\n",
    "    loss = np.mean([max(0, 1-actual*predicted) for actual, predicted in zip(y, yhat)])\n",
    "    loss += lam * sum(pow(element, 2) for element in w)\n",
    "    return loss"
   ]
  },
  {
   "cell_type": "code",
   "execution_count": 222,
   "metadata": {},
   "outputs": [],
   "source": [
    "def get_predictions(w, X):\n",
    "    yhat = []\n",
    "    for x in X:\n",
    "        #yhat.append(np.dot(w, x))\n",
    "        yhat.append(tf.tensordot(w, x, 1))\n",
    "    return yhat"
   ]
  },
  {
   "cell_type": "code",
   "execution_count": 223,
   "metadata": {},
   "outputs": [
    {
     "ename": "InvalidArgumentError",
     "evalue": "cannot compute _MklMatMul as input #1(zero-based) was expected to be a float tensor but is a double tensor [Op:MatMul]",
     "output_type": "error",
     "traceback": [
      "\u001b[0;31m---------------------------------------------------------------------------\u001b[0m",
      "\u001b[0;31mInvalidArgumentError\u001b[0m                      Traceback (most recent call last)",
      "\u001b[1;32m/home/rz20505/training_year/ml_paradigms/notebooks/svm_practice.ipynb Cell 7\u001b[0m in \u001b[0;36m<cell line: 5>\u001b[0;34m()\u001b[0m\n\u001b[1;32m      <a href='vscode-notebook-cell:/home/rz20505/training_year/ml_paradigms/notebooks/svm_practice.ipynb#W5sZmlsZQ%3D%3D?line=2'>3</a>\u001b[0m lam \u001b[39m=\u001b[39m \u001b[39m0.00001\u001b[39m\n\u001b[1;32m      <a href='vscode-notebook-cell:/home/rz20505/training_year/ml_paradigms/notebooks/svm_practice.ipynb#W5sZmlsZQ%3D%3D?line=3'>4</a>\u001b[0m epochs \u001b[39m=\u001b[39m \u001b[39m1000\u001b[39m\n\u001b[0;32m----> <a href='vscode-notebook-cell:/home/rz20505/training_year/ml_paradigms/notebooks/svm_practice.ipynb#W5sZmlsZQ%3D%3D?line=4'>5</a>\u001b[0m yhat \u001b[39m=\u001b[39m get_predictions(w, X)\n\u001b[1;32m      <a href='vscode-notebook-cell:/home/rz20505/training_year/ml_paradigms/notebooks/svm_practice.ipynb#W5sZmlsZQ%3D%3D?line=5'>6</a>\u001b[0m loss \u001b[39m=\u001b[39m hinge_loss(yhat, y, w, lam)\n\u001b[1;32m      <a href='vscode-notebook-cell:/home/rz20505/training_year/ml_paradigms/notebooks/svm_practice.ipynb#W5sZmlsZQ%3D%3D?line=6'>7</a>\u001b[0m \u001b[39mprint\u001b[39m(loss)\n",
      "\u001b[1;32m/home/rz20505/training_year/ml_paradigms/notebooks/svm_practice.ipynb Cell 7\u001b[0m in \u001b[0;36mget_predictions\u001b[0;34m(w, X)\u001b[0m\n\u001b[1;32m      <a href='vscode-notebook-cell:/home/rz20505/training_year/ml_paradigms/notebooks/svm_practice.ipynb#W5sZmlsZQ%3D%3D?line=1'>2</a>\u001b[0m yhat \u001b[39m=\u001b[39m []\n\u001b[1;32m      <a href='vscode-notebook-cell:/home/rz20505/training_year/ml_paradigms/notebooks/svm_practice.ipynb#W5sZmlsZQ%3D%3D?line=2'>3</a>\u001b[0m \u001b[39mfor\u001b[39;00m x \u001b[39min\u001b[39;00m X:\n\u001b[1;32m      <a href='vscode-notebook-cell:/home/rz20505/training_year/ml_paradigms/notebooks/svm_practice.ipynb#W5sZmlsZQ%3D%3D?line=3'>4</a>\u001b[0m     \u001b[39m#yhat.append(np.dot(w, x))\u001b[39;00m\n\u001b[0;32m----> <a href='vscode-notebook-cell:/home/rz20505/training_year/ml_paradigms/notebooks/svm_practice.ipynb#W5sZmlsZQ%3D%3D?line=4'>5</a>\u001b[0m     yhat\u001b[39m.\u001b[39mappend(tf\u001b[39m.\u001b[39;49mtensordot(w, x, \u001b[39m1\u001b[39;49m))\n\u001b[1;32m      <a href='vscode-notebook-cell:/home/rz20505/training_year/ml_paradigms/notebooks/svm_practice.ipynb#W5sZmlsZQ%3D%3D?line=5'>6</a>\u001b[0m \u001b[39mreturn\u001b[39;00m yhat\n",
      "File \u001b[0;32m~/anaconda3/envs/mlp/lib/python3.10/site-packages/tensorflow/python/util/traceback_utils.py:153\u001b[0m, in \u001b[0;36mfilter_traceback.<locals>.error_handler\u001b[0;34m(*args, **kwargs)\u001b[0m\n\u001b[1;32m    151\u001b[0m \u001b[39mexcept\u001b[39;00m \u001b[39mException\u001b[39;00m \u001b[39mas\u001b[39;00m e:\n\u001b[1;32m    152\u001b[0m   filtered_tb \u001b[39m=\u001b[39m _process_traceback_frames(e\u001b[39m.\u001b[39m__traceback__)\n\u001b[0;32m--> 153\u001b[0m   \u001b[39mraise\u001b[39;00m e\u001b[39m.\u001b[39mwith_traceback(filtered_tb) \u001b[39mfrom\u001b[39;00m \u001b[39mNone\u001b[39m\n\u001b[1;32m    154\u001b[0m \u001b[39mfinally\u001b[39;00m:\n\u001b[1;32m    155\u001b[0m   \u001b[39mdel\u001b[39;00m filtered_tb\n",
      "File \u001b[0;32m~/anaconda3/envs/mlp/lib/python3.10/site-packages/tensorflow/python/framework/ops.py:7186\u001b[0m, in \u001b[0;36mraise_from_not_ok_status\u001b[0;34m(e, name)\u001b[0m\n\u001b[1;32m   7184\u001b[0m \u001b[39mdef\u001b[39;00m \u001b[39mraise_from_not_ok_status\u001b[39m(e, name):\n\u001b[1;32m   7185\u001b[0m   e\u001b[39m.\u001b[39mmessage \u001b[39m+\u001b[39m\u001b[39m=\u001b[39m (\u001b[39m\"\u001b[39m\u001b[39m name: \u001b[39m\u001b[39m\"\u001b[39m \u001b[39m+\u001b[39m name \u001b[39mif\u001b[39;00m name \u001b[39mis\u001b[39;00m \u001b[39mnot\u001b[39;00m \u001b[39mNone\u001b[39;00m \u001b[39melse\u001b[39;00m \u001b[39m\"\u001b[39m\u001b[39m\"\u001b[39m)\n\u001b[0;32m-> 7186\u001b[0m   \u001b[39mraise\u001b[39;00m core\u001b[39m.\u001b[39m_status_to_exception(e) \u001b[39mfrom\u001b[39;00m \u001b[39mNone\u001b[39m\n",
      "\u001b[0;31mInvalidArgumentError\u001b[0m: cannot compute _MklMatMul as input #1(zero-based) was expected to be a float tensor but is a double tensor [Op:MatMul]"
     ]
    }
   ],
   "source": [
    "w = [32.74655828,   -1.30314603, -113.]\n",
    "#w = [5,6,7]\n",
    "lam = 0.00001\n",
    "epochs = 1000\n",
    "yhat = get_predictions(w, X)\n",
    "loss = hinge_loss(yhat, y, w, lam)\n",
    "print(loss)\n",
    "loss = sk_hinge_loss(y, yhat)\n",
    "print(loss)\n",
    "\n"
   ]
  },
  {
   "cell_type": "code",
   "execution_count": 206,
   "metadata": {},
   "outputs": [],
   "source": [
    "def compute_gradient(yhat, y, w, lam):\n",
    "    with tf.GradientTape() as t:\n",
    "        loss = tf.Variable(hinge_loss(yhat, y, w, lam))\n",
    "        d_dw = t.gradient(loss, w)\n",
    "    return d_dw"
   ]
  },
  {
   "cell_type": "code",
   "execution_count": 211,
   "metadata": {},
   "outputs": [],
   "source": [
    "def gradient_descent(X, y, w, lam, alpha, epochs):\n",
    "    for e in range(epochs):\n",
    "        yhat = get_predictions(w, X)\n",
    "        d_dw = compute_gradient(yhat, y, w, lam)\n",
    "        w = w - alpha * d_dw * loss\n",
    "    return w"
   ]
  },
  {
   "cell_type": "code",
   "execution_count": 218,
   "metadata": {},
   "outputs": [
    {
     "ename": "ValueError",
     "evalue": "The `initial_value` arg to `tf.Variable` must be specified except when you are not providing a `variable_def`. You provided neither.",
     "output_type": "error",
     "traceback": [
      "\u001b[0;31m---------------------------------------------------------------------------\u001b[0m",
      "\u001b[0;31mValueError\u001b[0m                                Traceback (most recent call last)",
      "\u001b[1;32m/home/rz20505/training_year/ml_paradigms/notebooks/svm_practice.ipynb Cell 10\u001b[0m in \u001b[0;36m<cell line: 6>\u001b[0;34m()\u001b[0m\n\u001b[1;32m      <a href='vscode-notebook-cell:/home/rz20505/training_year/ml_paradigms/notebooks/svm_practice.ipynb#X11sZmlsZQ%3D%3D?line=2'>3</a>\u001b[0m w \u001b[39m=\u001b[39m tf\u001b[39m.\u001b[39mVariable([\u001b[39m5.0\u001b[39m, \u001b[39m6.0\u001b[39m, \u001b[39m7.0\u001b[39m])\n\u001b[1;32m      <a href='vscode-notebook-cell:/home/rz20505/training_year/ml_paradigms/notebooks/svm_practice.ipynb#X11sZmlsZQ%3D%3D?line=3'>4</a>\u001b[0m lam \u001b[39m=\u001b[39m \u001b[39m0.2\u001b[39m\n\u001b[0;32m----> <a href='vscode-notebook-cell:/home/rz20505/training_year/ml_paradigms/notebooks/svm_practice.ipynb#X11sZmlsZQ%3D%3D?line=5'>6</a>\u001b[0m w \u001b[39m=\u001b[39m gradient_descent(X, y, w, lam, alpha, epochs)\n\u001b[1;32m      <a href='vscode-notebook-cell:/home/rz20505/training_year/ml_paradigms/notebooks/svm_practice.ipynb#X11sZmlsZQ%3D%3D?line=6'>7</a>\u001b[0m yhat \u001b[39m=\u001b[39m get_predictions(w, X)\n\u001b[1;32m      <a href='vscode-notebook-cell:/home/rz20505/training_year/ml_paradigms/notebooks/svm_practice.ipynb#X11sZmlsZQ%3D%3D?line=7'>8</a>\u001b[0m loss \u001b[39m=\u001b[39m hinge_loss(yhat, y, w, lam)\n",
      "\u001b[1;32m/home/rz20505/training_year/ml_paradigms/notebooks/svm_practice.ipynb Cell 10\u001b[0m in \u001b[0;36mgradient_descent\u001b[0;34m(X, y, w, lam, alpha, epochs)\u001b[0m\n\u001b[1;32m      <a href='vscode-notebook-cell:/home/rz20505/training_year/ml_paradigms/notebooks/svm_practice.ipynb#X11sZmlsZQ%3D%3D?line=3'>4</a>\u001b[0m yhat \u001b[39m=\u001b[39m get_predictions(w, X)\n\u001b[1;32m      <a href='vscode-notebook-cell:/home/rz20505/training_year/ml_paradigms/notebooks/svm_practice.ipynb#X11sZmlsZQ%3D%3D?line=4'>5</a>\u001b[0m d_dw \u001b[39m=\u001b[39m compute_gradient(yhat, y, w, lam)\n\u001b[0;32m----> <a href='vscode-notebook-cell:/home/rz20505/training_year/ml_paradigms/notebooks/svm_practice.ipynb#X11sZmlsZQ%3D%3D?line=5'>6</a>\u001b[0m d_dw \u001b[39m=\u001b[39m tf\u001b[39m.\u001b[39;49mVariable(d_dw)\n\u001b[1;32m      <a href='vscode-notebook-cell:/home/rz20505/training_year/ml_paradigms/notebooks/svm_practice.ipynb#X11sZmlsZQ%3D%3D?line=6'>7</a>\u001b[0m \u001b[39mprint\u001b[39m(e)\n\u001b[1;32m      <a href='vscode-notebook-cell:/home/rz20505/training_year/ml_paradigms/notebooks/svm_practice.ipynb#X11sZmlsZQ%3D%3D?line=7'>8</a>\u001b[0m \u001b[39m#print(w)\u001b[39;00m\n\u001b[1;32m      <a href='vscode-notebook-cell:/home/rz20505/training_year/ml_paradigms/notebooks/svm_practice.ipynb#X11sZmlsZQ%3D%3D?line=8'>9</a>\u001b[0m \u001b[39m#print(d_dw)\u001b[39;00m\n",
      "File \u001b[0;32m~/anaconda3/envs/mlp/lib/python3.10/site-packages/tensorflow/python/util/traceback_utils.py:153\u001b[0m, in \u001b[0;36mfilter_traceback.<locals>.error_handler\u001b[0;34m(*args, **kwargs)\u001b[0m\n\u001b[1;32m    151\u001b[0m \u001b[39mexcept\u001b[39;00m \u001b[39mException\u001b[39;00m \u001b[39mas\u001b[39;00m e:\n\u001b[1;32m    152\u001b[0m   filtered_tb \u001b[39m=\u001b[39m _process_traceback_frames(e\u001b[39m.\u001b[39m__traceback__)\n\u001b[0;32m--> 153\u001b[0m   \u001b[39mraise\u001b[39;00m e\u001b[39m.\u001b[39mwith_traceback(filtered_tb) \u001b[39mfrom\u001b[39;00m \u001b[39mNone\u001b[39m\n\u001b[1;32m    154\u001b[0m \u001b[39mfinally\u001b[39;00m:\n\u001b[1;32m    155\u001b[0m   \u001b[39mdel\u001b[39;00m filtered_tb\n",
      "File \u001b[0;32m~/anaconda3/envs/mlp/lib/python3.10/site-packages/tensorflow/python/ops/resource_variable_ops.py:1753\u001b[0m, in \u001b[0;36mResourceVariable._init_from_args\u001b[0;34m(self, initial_value, trainable, collections, caching_device, name, dtype, constraint, synchronization, aggregation, distribute_strategy, shape)\u001b[0m\n\u001b[1;32m   1749\u001b[0m synchronization, aggregation, trainable \u001b[39m=\u001b[39m (\n\u001b[1;32m   1750\u001b[0m     variables\u001b[39m.\u001b[39mvalidate_synchronization_aggregation_trainable(\n\u001b[1;32m   1751\u001b[0m         synchronization, aggregation, trainable, name))\n\u001b[1;32m   1752\u001b[0m \u001b[39mif\u001b[39;00m initial_value \u001b[39mis\u001b[39;00m \u001b[39mNone\u001b[39;00m:\n\u001b[0;32m-> 1753\u001b[0m   \u001b[39mraise\u001b[39;00m \u001b[39mValueError\u001b[39;00m(\u001b[39m\"\u001b[39m\u001b[39mThe `initial_value` arg to `tf.Variable` must \u001b[39m\u001b[39m\"\u001b[39m\n\u001b[1;32m   1754\u001b[0m                    \u001b[39m\"\u001b[39m\u001b[39mbe specified except when you are not providing a \u001b[39m\u001b[39m\"\u001b[39m\n\u001b[1;32m   1755\u001b[0m                    \u001b[39m\"\u001b[39m\u001b[39m`variable_def`. You provided neither.\u001b[39m\u001b[39m\"\u001b[39m)\n\u001b[1;32m   1756\u001b[0m init_from_fn \u001b[39m=\u001b[39m callable(initial_value)\n\u001b[1;32m   1758\u001b[0m \u001b[39mif\u001b[39;00m \u001b[39misinstance\u001b[39m(initial_value, ops\u001b[39m.\u001b[39mTensor) \u001b[39mand\u001b[39;00m \u001b[39mhasattr\u001b[39m(\n\u001b[1;32m   1759\u001b[0m     initial_value, \u001b[39m\"\u001b[39m\u001b[39mgraph\u001b[39m\u001b[39m\"\u001b[39m) \u001b[39mand\u001b[39;00m initial_value\u001b[39m.\u001b[39mgraph\u001b[39m.\u001b[39mbuilding_function:\n",
      "\u001b[0;31mValueError\u001b[0m: The `initial_value` arg to `tf.Variable` must be specified except when you are not providing a `variable_def`. You provided neither."
     ]
    }
   ],
   "source": [
    "alpha = 0.01\n",
    "epochs = 1000\n",
    "w = tf.Variable([5.0, 6.0, 7.0])\n",
    "lam = 0.2\n",
    "\n",
    "w = gradient_descent(X, y, w, lam, alpha, epochs)\n",
    "yhat = get_predictions(w, X)\n",
    "loss = hinge_loss(yhat, y, w, lam)\n",
    "print('\\n\\n',loss)\n",
    "print(w)\n",
    "print(w[0])"
   ]
  },
  {
   "cell_type": "code",
   "execution_count": 178,
   "metadata": {},
   "outputs": [
    {
     "name": "stdout",
     "output_type": "stream",
     "text": [
      "<tf.Variable 'Variable:0' shape=(3,) dtype=float32, numpy=array([0.09084658, 0.10901587, 0.12718518], dtype=float32)>\n",
      "tf.Tensor(0.09084658, shape=(), dtype=float32)\n",
      "tf.Tensor(0.109015875, shape=(), dtype=float32)\n",
      "tf.Tensor(0.83333355, shape=(), dtype=float32)\n"
     ]
    },
    {
     "data": {
      "text/plain": [
       "0.09084658324718475"
      ]
     },
     "execution_count": 178,
     "metadata": {},
     "output_type": "execute_result"
    }
   ],
   "source": [
    "print(w)\n",
    "print(w[0])\n",
    "print(w[1])\n",
    "print(w[0]/w[1])\n",
    "float(w[0])"
   ]
  },
  {
   "cell_type": "code",
   "execution_count": 180,
   "metadata": {},
   "outputs": [
    {
     "name": "stdout",
     "output_type": "stream",
     "text": [
      "Expected:  1   Predicted:  1.6501431075712572\n",
      "Expected:  1   Predicted:  1.6501431075712572\n",
      "Expected:  1   Predicted:  1.6501431075712572\n",
      "Expected:  1   Predicted:  1.6501431075712572\n",
      "Expected:  1   Predicted:  1.6501431075712572\n",
      "Expected:  -1   Predicted:  1.6501431075712572\n",
      "Expected:  -1   Predicted:  1.6501431075712572\n",
      "Expected:  -1   Predicted:  1.6501431075712572\n",
      "Expected:  -1   Predicted:  1.6501431075712572\n",
      "Expected:  1   Predicted:  1.6501431075712572\n",
      "Expected:  1   Predicted:  1.6501431075712572\n",
      "Expected:  -1   Predicted:  1.6501431075712572\n",
      "Expected:  1   Predicted:  1.6501431075712572\n",
      "Expected:  1   Predicted:  1.6501431075712572\n",
      "Expected:  -1   Predicted:  1.6501431075712572\n",
      "Expected:  1   Predicted:  1.6501431075712572\n",
      "Expected:  -1   Predicted:  1.6501431075712572\n",
      "Expected:  1   Predicted:  1.6501431075712572\n",
      "Expected:  -1   Predicted:  1.6501431075712572\n",
      "Expected:  -1   Predicted:  1.6501431075712572\n",
      "Expected:  -1   Predicted:  1.6501431075712572\n",
      "Expected:  -1   Predicted:  1.6501431075712572\n",
      "Expected:  -1   Predicted:  1.6501431075712572\n",
      "Expected:  1   Predicted:  1.6501431075712572\n",
      "Expected:  1   Predicted:  1.6501431075712572\n"
     ]
    }
   ],
   "source": [
    "\n",
    "\n",
    "for x, y_i in zip(X, y):\n",
    "  yhat = np.dot(w, X[i])\n",
    "  print('Expected: ', y_i, '  Predicted: ', yhat)"
   ]
  },
  {
   "cell_type": "code",
   "execution_count": 185,
   "metadata": {},
   "outputs": [
    {
     "data": {
      "image/png": "[encoded data removed]",
      "text/plain": [
       "<Figure size 640x480 with 1 Axes>"
      ]
     },
     "metadata": {},
     "output_type": "display_data"
    }
   ],
   "source": [
    "# Plot learned decision boundary\n",
    "#w = tf.Variable([32.74655828,   -1.30314603, -113])\n",
    "c = float(-w[2])/float(w[1])\n",
    "m = float(-w[0]) / float(w[1])\n",
    "\n",
    "\n",
    "xmin, xmax = 0, 10\n",
    "ymin, ymax = 0, 10\n",
    "xd = np.array([xmin, xmax])\n",
    "yd = m*xd + c\n",
    "\n",
    "plt.plot(xd, yd, 'k', lw=1, ls='--')\n",
    "plt.fill_between(xd, yd, ymin, color='tab:blue', alpha=0.2)\n",
    "plt.fill_between(xd, yd, ymax, color='tab:orange', alpha=0.2)\n",
    "\n",
    "\n",
    "plt.plot(X[:, 0][y == 1], X[:, 1][y == 1], '+', color='green', label='yi = +1')\n",
    "plt.plot(X[:, 0][y == -1], X[:, 1][y == -1], '_', color='red', label='yi = 0')\n",
    "plt.legend()\n",
    "plt.xlim(np.array([0,10]))\n",
    "plt.ylim(np.array([0,10]))\n",
    "plt.xlabel('Free time (Hours)')\n",
    "plt.ylabel('Food in Svens fridge (100 Calories)')\n",
    "plt.title(\"Do I look after Sven's cat?\")\n",
    "plt.show()"
   ]
  },
  {
   "cell_type": "code",
   "execution_count": null,
   "metadata": {},
   "outputs": [],
   "source": []
  }
 ],
 "metadata": {
  "kernelspec": {
   "display_name": "Python 3.10.4 ('mlp')",
   "language": "python",
   "name": "python3"
  },
  "language_info": {
   "codemirror_mode": {
    "name": "ipython",
    "version": 3
   },
   "file_extension": ".py",
   "mimetype": "text/x-python",
   "name": "python",
   "nbconvert_exporter": "python",
   "pygments_lexer": "ipython3",
   "version": "3.10.4"
  },
  "orig_nbformat": 4,
  "vscode": {
   "interpreter": {
    "hash": "83b222847492d72fef7b304a9817d8d7a267008f24984f848e27cce729e058d7"
   }
  }
 },
 "nbformat": 4,
 "nbformat_minor": 2
}
