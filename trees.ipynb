{
 "cells": [
  {
   "cell_type": "code",
   "execution_count": 4,
   "metadata": {},
   "outputs": [],
   "source": [
    "# Example 5.3\n",
    "import numpy as np\n"
   ]
  },
  {
   "cell_type": "code",
   "execution_count": 1,
   "metadata": {},
   "outputs": [],
   "source": [
    "def pdot(pos, neg):\n",
    "    return pos / (pos + neg)"
   ]
  },
  {
   "cell_type": "code",
   "execution_count": 2,
   "metadata": {},
   "outputs": [],
   "source": [
    "def gini_index(pdot):\n",
    "    return 2 * pdot * (1-pdot)"
   ]
  },
  {
   "cell_type": "code",
   "execution_count": 5,
   "metadata": {},
   "outputs": [],
   "source": [
    "def entropy(pdot):\n",
    "    return -pdot*np.log2(pdot)-(1-pdot)*np.log2(1-pdot)"
   ]
  },
  {
   "cell_type": "code",
   "execution_count": 21,
   "metadata": {},
   "outputs": [],
   "source": [
    "def weighted_average(entropys, total, points_in_leaves):\n",
    "    weighted_av = 0\n",
    "    for entropy, points_in_leaf in zip(entropys, points_in_leaves):\n",
    "        weighted_av += (points_in_leaf/total) * entropy\n",
    "    return weighted_av"
   ]
  },
  {
   "cell_type": "code",
   "execution_count": 23,
   "metadata": {},
   "outputs": [
    {
     "name": "stdout",
     "output_type": "stream",
     "text": [
      "Entropy:\n",
      "s1 left:  0.7219280948873623 \n",
      "s1 right:  0.7219280948873623 \n",
      "s2 left:  0.954434002924965 \n",
      "s2 right:  0\n",
      "Weighted average:\n",
      "s1:  0.7219280948873623 \n",
      "s2:  0.7635472023399721\n",
      "\n",
      "\n",
      "\n",
      "s1_left gini =  0.31999999999999995\n",
      "s1_right gini =  0.32000000000000006\n",
      "average gini s1 =  0.32\n",
      "\n",
      "s2_left gini =  0.46875\n",
      "s2_right gini =  0.0\n",
      "average s2 gini =  0.234375\n"
     ]
    }
   ],
   "source": [
    "s1 = [[8,2],[2,8]]\n",
    "s2 = [[10,6],[0,4]]\n",
    "\n",
    "s1_left_gini = gini_index(pdot(s1[0][0], s1[0][1]))\n",
    "s1_right_gini = gini_index(pdot(s1[1][0], s1[1][1]))\n",
    "\n",
    "s2_left_gini = gini_index(pdot(s2[0][0], s2[0][1]))\n",
    "s2_right_gini = gini_index(pdot(s2[1][0], s2[1][1]))\n",
    "av_s2_gini = (s2_left_gini + s2_right_gini) / 2\n",
    "\n",
    "s1_pdot_left = pdot(s1[0][0], s1[0][1])\n",
    "s1_pdot_right = pdot(s1[1][0], s1[1][1])\n",
    "s1_entropy_left = entropy(s1_pdot_left)\n",
    "s1_entropy_right = entropy(s1_pdot_right)\n",
    "s1_weighted_av = weighted_average([s1_entropy_left, s1_entropy_right], 20, [10,10])\n",
    "s2_pdot_left = pdot(s2[0][0], s2[0][1])\n",
    "s2_pdot_right = pdot(s2[1][0], s2[1][1])\n",
    "s2_entropy_left = entropy(s2_pdot_left)\n",
    "# s2_entropy_right = entropy(s2_pdot_right)\n",
    "s2_entropy_right = 0\n",
    "s2_weighted_av = weighted_average([s2_entropy_left, s2_entropy_right], 20, [16, 4])\n",
    "\n",
    "print('Entropy:\\ns1 left: ', s1_entropy_left, '\\ns1 right: ', s1_entropy_right, '\\ns2 left: ', s2_entropy_left, '\\ns2 right: ', s2_entropy_right)\n",
    "print('Weighted average:\\ns1: ', s1_weighted_av, '\\ns2: ', s2_weighted_av)\n",
    "\n",
    "print('\\n\\n')\n",
    "\n",
    "print('s1_left gini = ', s1_left_gini)\n",
    "print('s1_right gini = ', s1_right_gini)\n",
    "print('average gini s1 = ', ((s1_left_gini + s1_right_gini) / 2))\n",
    "\n",
    "print('\\ns2_left gini = ', s2_left_gini)\n",
    "print('s2_right gini = ', s2_right_gini)\n",
    "print('average s2 gini = ', av_s2_gini)"
   ]
  },
  {
   "cell_type": "code",
   "execution_count": null,
   "metadata": {},
   "outputs": [],
   "source": []
  }
 ],
 "metadata": {
  "kernelspec": {
   "display_name": "Python 3.10.4 ('mlp')",
   "language": "python",
   "name": "python3"
  },
  "language_info": {
   "codemirror_mode": {
    "name": "ipython",
    "version": 3
   },
   "file_extension": ".py",
   "mimetype": "text/x-python",
   "name": "python",
   "nbconvert_exporter": "python",
   "pygments_lexer": "ipython3",
   "version": "3.10.4"
  },
  "orig_nbformat": 4,
  "vscode": {
   "interpreter": {
    "hash": "83b222847492d72fef7b304a9817d8d7a267008f24984f848e27cce729e058d7"
   }
  }
 },
 "nbformat": 4,
 "nbformat_minor": 2
}
