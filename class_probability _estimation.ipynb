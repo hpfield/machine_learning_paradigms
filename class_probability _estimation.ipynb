{
 "cells": [
  {
   "cell_type": "code",
   "execution_count": 1,
   "metadata": {},
   "outputs": [],
   "source": [
    "import numpy as np"
   ]
  },
  {
   "cell_type": "code",
   "execution_count": 22,
   "metadata": {},
   "outputs": [],
   "source": [
    "# Squared error page 73\n",
    "\n",
    "def squared_err(true_class, p_hat):\n",
    "    sum = 0\n",
    "    for i in range(len(p_hat)):\n",
    "        indicator = 0\n",
    "        if i == true_class:\n",
    "            indicator = 1\n",
    "        sum += (p_hat[i] - indicator)**2\n",
    "    se = sum / 2\n",
    "    return se\n"
   ]
  },
  {
   "cell_type": "code",
   "execution_count": 23,
   "metadata": {},
   "outputs": [
    {
     "name": "stdout",
     "output_type": "stream",
     "text": [
      "0.07000000000000002\n",
      "0.0001000000000000001\n"
     ]
    }
   ],
   "source": [
    "\n",
    "# If the predicted class is the right class\n",
    "p_hat = [0.7, 0.1, 0.2]\n",
    "\n",
    "print(squared_err(0, p_hat))\n",
    "\n",
    "p_hat = [0.99, 0, 0.01]\n",
    "\n",
    "print(squared_err(0, p_hat))\n"
   ]
  },
  {
   "cell_type": "code",
   "execution_count": 25,
   "metadata": {},
   "outputs": [
    {
     "name": "stdout",
     "output_type": "stream",
     "text": [
      "0.5700000000000001\n",
      "0.9801\n"
     ]
    }
   ],
   "source": [
    "# If the predicted class is the wrong class\n",
    "p_hat = [0.7, 0.1, 0.2]\n",
    "\n",
    "print(squared_err(2, p_hat))\n",
    "\n",
    "p_hat = [0.99, 0, 0.01]\n",
    "\n",
    "print(squared_err(2, p_hat))"
   ]
  },
  {
   "cell_type": "code",
   "execution_count": 26,
   "metadata": {},
   "outputs": [],
   "source": [
    "# Caculate MSE of binary clasifier tree\n",
    "\n",
    "# When calculating the SE of a single class (spam/ham) we do not adjust the probability in the SE fn\n",
    "\n",
    "def binary_se(prob, spam, ham):\n",
    "    sum = 0\n",
    "    return spam * (prob - 1) ** 2 + ham * (prob) ** 2"
   ]
  },
  {
   "cell_type": "code",
   "execution_count": 30,
   "metadata": {},
   "outputs": [
    {
     "name": "stdout",
     "output_type": "stream",
     "text": [
      "13.334\n",
      "13.334999999999976\n"
     ]
    }
   ],
   "source": [
    "# Using example page 74\n",
    "print(binary_se(0.33, 20, 40))\n",
    "\n",
    "\n",
    "# Using coded function from page 73\n",
    "p_hat = [0.33, 0.66]\n",
    "# spam\n",
    "sum = 0\n",
    "for i in range(20):\n",
    "    sum += squared_err(0, p_hat)\n",
    "# ham\n",
    "for i in range(40):\n",
    "    sum += squared_err(1, p_hat)\n",
    "\n",
    "# results are the same\n",
    "print(sum)"
   ]
  },
  {
   "cell_type": "code",
   "execution_count": 32,
   "metadata": {},
   "outputs": [
    {
     "name": "stdout",
     "output_type": "stream",
     "text": [
      "13.334\n",
      "13.334\n"
     ]
    }
   ],
   "source": [
    "# Empirical probabilities page 75\n",
    "n_p = 20\n",
    "n_n = 40\n",
    "p_hat = 0.33\n",
    "\n",
    "print(n_p * (p_hat - 1)**2 + n_n * p_hat**2)\n",
    "print((n_p + n_n) * p_hat**2 - 2*n_p*p_hat + n_p)\n",
    "\n",
    "\n",
    "# Number of positives / total exampes = empirical probability = pdot\n",
    "\n",
    "pdot = n_p / (n_p + n_n)"
   ]
  },
  {
   "cell_type": "code",
   "execution_count": null,
   "metadata": {},
   "outputs": [],
   "source": []
  }
 ],
 "metadata": {
  "kernelspec": {
   "display_name": "Python 3.10.4 ('mlp')",
   "language": "python",
   "name": "python3"
  },
  "language_info": {
   "codemirror_mode": {
    "name": "ipython",
    "version": 3
   },
   "file_extension": ".py",
   "mimetype": "text/x-python",
   "name": "python",
   "nbconvert_exporter": "python",
   "pygments_lexer": "ipython3",
   "version": "3.10.4"
  },
  "orig_nbformat": 4,
  "vscode": {
   "interpreter": {
    "hash": "83b222847492d72fef7b304a9817d8d7a267008f24984f848e27cce729e058d7"
   }
  }
 },
 "nbformat": 4,
 "nbformat_minor": 2
}
